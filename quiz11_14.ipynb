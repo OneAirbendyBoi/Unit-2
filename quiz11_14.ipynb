{
  "nbformat": 4,
  "nbformat_minor": 0,
  "metadata": {
    "colab": {
      "name": "quiz11 - 14.ipynb",
      "provenance": [],
      "authorship_tag": "ABX9TyOW/2c7y4sxMEFE/s/ZcGuW",
      "include_colab_link": true
    },
    "kernelspec": {
      "name": "python3",
      "display_name": "Python 3"
    },
    "language_info": {
      "name": "python"
    }
  },
  "cells": [
    {
      "cell_type": "markdown",
      "metadata": {
        "id": "view-in-github",
        "colab_type": "text"
      },
      "source": [
        "<a href=\"https://colab.research.google.com/github/OneAirbendyBoi/Unit-2/blob/main/quiz11_14.ipynb\" target=\"_parent\"><img src=\"https://colab.research.google.com/assets/colab-badge.svg\" alt=\"Open In Colab\"/></a>"
      ]
    },
    {
      "cell_type": "code",
      "metadata": {
        "colab": {
          "base_uri": "https://localhost:8080/"
        },
        "id": "pDBt5-jFe-vh",
        "outputId": "d1d49c0b-fc29-40ca-9795-7cb08a647e25"
      },
      "source": [
        "def q11(n):\n",
        "  if len(n) >= 1:\n",
        "    if n[0] == n[len(n) - 1]:\n",
        "      return True\n",
        "    else: return False\n",
        "  else: return False\n",
        "    \n",
        "\n",
        "n = q11([1, 2, 5, 7, 8, 1])\n",
        "print(n)"
      ],
      "execution_count": null,
      "outputs": [
        {
          "output_type": "stream",
          "name": "stdout",
          "text": [
            "True\n"
          ]
        }
      ]
    },
    {
      "cell_type": "code",
      "metadata": {
        "colab": {
          "base_uri": "https://localhost:8080/"
        },
        "id": "NFtD-NnEWJfO",
        "outputId": "c581b014-cb49-4208-c84c-bf70ab11ec13"
      },
      "source": [
        "def q12(n):\n",
        "  z=0\n",
        "  for i in range(0, len(n)):\n",
        "    x = len(n[i])\n",
        "    z+=x\n",
        "  y=z/len(n)\n",
        "  return y\n",
        "  \n",
        "h = q12([\"word\", \"baby\", \"jobe\"])\n",
        "print(h) "
      ],
      "execution_count": null,
      "outputs": [
        {
          "output_type": "stream",
          "name": "stdout",
          "text": [
            "4.0\n"
          ]
        }
      ]
    },
    {
      "cell_type": "code",
      "metadata": {
        "colab": {
          "base_uri": "https://localhost:8080/"
        },
        "id": "-XVFTtAbglWx",
        "outputId": "8f90e71c-2312-4aca-fe60-f22e61965112"
      },
      "source": [
        "\n",
        "def q13(items,amount):\n",
        "  food=[\"bread\",\"rice\",\"pasta\"]\n",
        "  electronic=[\"ipad\",\"phone\",\"laptop\"]\n",
        "  liquor=[\"beer\",\"wine\",\"champange\"]\n",
        "  total=0\n",
        "  for i in range (len(items)):\n",
        "    current_item=items[i]\n",
        "    current_amt=amount[i]\n",
        "    if current_item in food:\n",
        "      total+=1.1*current_amt\n",
        "    elif current_item in electronic:\n",
        "      total+=1.125*current_amt\n",
        "    elif current_item in liquor:\n",
        "      total+=1.2*current_amt\n",
        "    else:\n",
        "      print(\"Item is not in the database\")    \n",
        "      newbase=input(f\"What type of item is {current_item} ?（food, electronic or liquor):\")\n",
        "      while newbase not in \"food\" \"liquor\" \"electronic\":\n",
        "        print(\"Sorry, this is not an option\")\n",
        "        newbase=input(f\"What type of item is {current_item} ?（food, electronic or liquor):\")\n",
        "      else:\n",
        "        if newbase==food:\n",
        "          food=[\"bread\",\"rice\",\"pasta\",newitem]\n",
        "        if newbase==electronic:\n",
        "          electronic=[\"ipad\",\"phone\",\"laptop\",newitem]\n",
        "        if newbase==liquor:\n",
        "          liquor=[\"beer\",\"wine\",\"champange\",newitem]\n",
        "      \n",
        "\n",
        "  return total\n",
        "items=[\"bread\",\"beer\",\"ipad\",\"apple\", \"rum\"]\n",
        "amount=[300,800,3000,100,5000]\n",
        "total_customer_a=q13(items,amount)\n",
        "print(total_customer_a)"
      ],
      "execution_count": 17,
      "outputs": [
        {
          "output_type": "stream",
          "name": "stdout",
          "text": [
            "Item is not in the database\n",
            "What type of item is apple ?（food, electronic or liquor):nuts\n",
            "Sorry, this is not an option\n",
            "What type of item is apple ?（food, electronic or liquor):food\n",
            "Item is not in the database\n",
            "What type of item is rum ?（food, electronic or liquor):liquor\n",
            "4665.0\n"
          ]
        }
      ]
    },
    {
      "cell_type": "code",
      "metadata": {
        "colab": {
          "base_uri": "https://localhost:8080/"
        },
        "id": "o0TwX-9YeaJ5",
        "outputId": "90b63e53-a6e5-4a75-d816-065d4df650f0"
      },
      "source": [
        "def q14(a,b,c):\n",
        "  if abs(b-c) == abs(a-b):\n",
        "    return True\n",
        "  elif abs(a-c)==abs(c-b):\n",
        "    return True\n",
        "  elif abs(c-a)==abs(a-b):\n",
        "    return True\n",
        "  else: return False\n",
        "\n",
        "g = q14(3,6,9)\n",
        "print(g) "
      ],
      "execution_count": 7,
      "outputs": [
        {
          "output_type": "stream",
          "name": "stdout",
          "text": [
            "True\n"
          ]
        }
      ]
    }
  ]
}